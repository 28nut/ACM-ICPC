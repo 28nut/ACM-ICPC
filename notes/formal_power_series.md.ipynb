{
 "cells": [
  {
   "cell_type": "markdown",
   "id": "75654df4",
   "metadata": {},
   "source": [
    "# 形式幂级数\n",
    "\n",
    "$\\sum_{i=0}^{\\infty}{x^i}=\\frac{1}{1-x}$\n",
    "\n",
    "$\\sum_{i=0}^{\\infty}{a^ix^i}=\\frac{1}{1-ax}$\n",
    "\n",
    "$\\sum_{i=0}^{\\infty}{x^{ik}}=\\frac{1}{1-x^k}$\n",
    "\n",
    "$\\sum_{i=0}^{\\infty}{c^ix^{ik}}=\\frac{1}{1-cx^k}$\n",
    "\n",
    "$\\sum_{i=0}^{\\infty}{\\frac{x^i}{i!}}=e^x$\n",
    "\n",
    "$x\\frac{\\partial}{\\partial{x}}\\sum_{i=0}^{\\infty}{x^i}=\\sum_{i=0}^{\\infty}{ix^i}$\n",
    "\n",
    "$\\sum_{i=0}^{n}{(-1)^i\\binom{n}{i}}=(1-x)^n$\n",
    "\n",
    "$\\sum_{i=0}^{\\infty}{\\binom{n+i}{i}}=\\frac{1}{(1-x)^{n+1}}$\n"
   ]
  }
 ],
 "metadata": {
  "kernelspec": {
   "display_name": "Python 3",
   "language": "python",
   "name": "python3"
  },
  "language_info": {
   "codemirror_mode": {
    "name": "ipython",
    "version": 3
   },
   "file_extension": ".py",
   "mimetype": "text/x-python",
   "name": "python",
   "nbconvert_exporter": "python",
   "pygments_lexer": "ipython3",
   "version": "3.8.8"
  }
 },
 "nbformat": 4,
 "nbformat_minor": 5
}
