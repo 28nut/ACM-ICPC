{
 "cells": [
  {
   "cell_type": "markdown",
   "metadata": {},
   "source": [
    "# The admissibility theorem for ordinary generating functions\n",
    "\n",
    "https://ac.cs.princeton.edu/home/\n",
    "\n",
    "The construtions of union, cartesian product, sequence, powerset, multiset, and cycle are all admissible. The associated operators are as follows.\n",
    "\n",
    "Sum: $\\mathcal{A}=\\mathcal{B}+\\mathcal{C} \\Rightarrow A(z)=B(z)+C(z)$\n",
    "\n",
    "Cartesian product: $\\mathcal{A}=\\mathcal{B}\\times \\mathcal{C} \\Rightarrow A(z)=B(z)\\cdot C(z)$\n",
    "\n",
    "Sequence: $\\mathcal{A}=SEQ(\\mathcal{B}) \\Rightarrow A(z)=\\frac{1}{1-B(z)}$\n",
    "\n",
    "Powerset(01-knapsack): $\\mathcal{A}=PSET(\\mathcal{B}) \\Rightarrow A(z)=\\left\\{ \\begin{array}{**rcl**}\\Pi_{n\\ge 1}(1+z^n)^{B[n]} &\\\\ exp(\\sum_{k=1}^{\\infty}{\\frac{(-1)^{k+1}}{k}{B(z^k)}})\\end{array}\\right.$\n",
    "\n",
    "Multiset(unbounded-knapsack): $\\mathcal{A}=MSET(\\mathcal{B}) \\Rightarrow A(z)=\\left\\{ \\begin{array}{**rcl**}\\Pi_{n\\ge 1}(1-z^n)^{-B[n]} &\\\\ exp(\\sum_{k=1}^{\\infty}\\frac{1}{k}B(z^k))\\end{array}\\right.$\n",
    "\n",
    "Cycle: $\\mathcal{A}=CYC(\\mathcal{B}) \\Rightarrow A(z)=\\sum_{k=1}^{\\infty}{\\frac{\\phi(k)}{k}\\ln\\frac{1}{1-B(z^k)}}$\n",
    "\n",
    "For the sequence, powerset, multiset, and cycle translations, it is assumed that $\\mathcal{B}_0=\\emptyset$."
   ]
  }
 ],
 "metadata": {
  "kernelspec": {
   "display_name": "Python 3",
   "language": "python",
   "name": "python3"
  },
  "language_info": {
   "codemirror_mode": {
    "name": "ipython",
    "version": 3
   },
   "file_extension": ".py",
   "mimetype": "text/x-python",
   "name": "python",
   "nbconvert_exporter": "python",
   "pygments_lexer": "ipython3",
   "version": "3.8.5"
  }
 },
 "nbformat": 4,
 "nbformat_minor": 4
}
