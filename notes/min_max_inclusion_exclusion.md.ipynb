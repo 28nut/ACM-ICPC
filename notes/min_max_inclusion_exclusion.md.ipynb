{
 "cells": [
  {
   "cell_type": "markdown",
   "id": "86099617",
   "metadata": {},
   "source": [
    "# min-max 容斥\n",
    "\n",
    "let $U$ = {$a_1, a_2, .., a_n$},\n",
    "\n",
    "$\\min(S)$ = $\\min_{a_i \\in S}{a_i}$,\n",
    "\n",
    "$\\max(S)$ = $\\max_{a_i \\in S}{a_i}$,\n",
    "\n",
    "then we have\n",
    "\n",
    "$\\max(S)$ = $\\sum_{T \\subseteq S}{(-1)^{\\vert T \\vert +1}\\min(T)}$,\n",
    "\n",
    "$\\min(S)$ = $\\sum_{T \\subseteq S}{(-1)^{\\vert T \\vert +1}\\max(T)}$,\n",
    "\n",
    "and it has an expectation form:\n",
    "\n",
    "$E(\\max(S))$ = $\\sum_{T \\subseteq S}{(-1)^{\\vert T \\vert +1}E(\\min(T))}$,\n",
    "\n",
    "$E(\\min(S))$ = $\\sum_{T \\subseteq S}{(-1)^{\\vert T \\vert +1}E(\\max(T))}$.\n",
    "\n",
    "We can extend it to kth min/max:\n",
    "\n",
    "$Kthmax(S)$ = $\\sum_{T \\subseteq S}{(-1)^{\\vert T \\vert -k}\\binom{\\vert T \\vert -1}{k-1}\\min(T)}$,\n",
    "\n",
    "$Kthmin(S)$ = $\\sum_{T \\subseteq S}{(-1)^{\\vert T \\vert -k}\\binom{\\vert T \\vert -1}{k-1}\\max(T)}$,\n",
    "\n",
    "again, it has an expectation form:\n",
    "\n",
    "$E(Kthmax(S))$ = $\\sum_{T \\subseteq S}{(-1)^{\\vert T \\vert -k}\\binom{\\vert T \\vert -1}{k-1}E(\\min(T))}$,\n",
    "\n",
    "$E(Kthmin(S))$ = $\\sum_{T \\subseteq S}{(-1)^{\\vert T \\vert -k}\\binom{\\vert T \\vert -1}{k-1}E(\\max(T))}$.\n"
   ]
  }
 ],
 "metadata": {
  "kernelspec": {
   "display_name": "Python 3",
   "language": "python",
   "name": "python3"
  },
  "language_info": {
   "codemirror_mode": {
    "name": "ipython",
    "version": 3
   },
   "file_extension": ".py",
   "mimetype": "text/x-python",
   "name": "python",
   "nbconvert_exporter": "python",
   "pygments_lexer": "ipython3",
   "version": "3.8.8"
  }
 },
 "nbformat": 4,
 "nbformat_minor": 5
}
