{
 "cells": [
  {
   "cell_type": "markdown",
   "id": "0d0ef169",
   "metadata": {},
   "source": [
    "# 单位根反演\n",
    "\n",
    "$\\omega_n$: $n$次单位根.\n",
    "\n",
    "$[n|k]=\\frac{1}{n}\\sum_{i=0}^{n-1}{\\omega_n^{ki}}$"
   ]
  }
 ],
 "metadata": {
  "kernelspec": {
   "display_name": "Python 3",
   "language": "python",
   "name": "python3"
  },
  "language_info": {
   "codemirror_mode": {
    "name": "ipython",
    "version": 3
   },
   "file_extension": ".py",
   "mimetype": "text/x-python",
   "name": "python",
   "nbconvert_exporter": "python",
   "pygments_lexer": "ipython3",
   "version": "3.8.8"
  }
 },
 "nbformat": 4,
 "nbformat_minor": 5
}
