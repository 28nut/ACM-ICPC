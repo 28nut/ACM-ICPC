{
 "cells": [
  {
   "cell_type": "markdown",
   "id": "fca8a9c8",
   "metadata": {},
   "source": [
    "# 二项式\n",
    "\n",
    "$\\binom{n}{m}$ = $\\frac{n!}{m!(n-m)!}$\n",
    "\n",
    "对称性: $\\binom{n}{m}$ = $\\binom{n}{n-m}$\n",
    "\n",
    "吸收/释放: $\\binom{n}{m}$ = $\\frac{n}{m}\\binom{n-1}{m-1}$\n",
    "\n",
    "二项式定理: $(x+y)^k$ = $\\sum_{i=0}^{k}{\\binom{k}{i}x^iy^{k-i}}$\n",
    "\n",
    "递推: $\\binom{n}{m}$ = $\\binom{n-1}{m} + \\binom{n-1}{m-1}$\n",
    "\n",
    "平行求和: $\\sum_{i=0}^{n}{\\binom{r+i}{i}}$ = $\\binom{r+n+1}{n}$\n",
    "\n",
    "上指标求和: $\\sum_{i=0}^{n}{\\binom{i}{m}}$ = $\\binom{n+1}{m+1}$\n",
    "\n",
    "范德蒙德卷积: \n",
    "\n",
    "$F(x)$ = $(1+x)^{n+m}$ = $(1+x)^n(1+x)^m$\n",
    "\n",
    "$F[k]$ = $\\binom{n+m}{k}$ = $\\sum_{i=0}^{k}{\\binom{n}{i}\\binom{m}{k-i}}$\n",
    "\n",
    "广义二项式:\n",
    "\n",
    "$\\binom{\\alpha}{i}$ = $\\frac{\\alpha^{\\underline{i}}}{i!}$, 其中 $\\alpha$ 可以不为整数\n",
    "\n",
    "$(x+y)^{\\alpha}$ = $\\sum_{i=0}^{\\infty}{\\binom{\\alpha}{i}x^iy^{\\alpha-i}}$"
   ]
  }
 ],
 "metadata": {
  "kernelspec": {
   "display_name": "Python 3",
   "language": "python",
   "name": "python3"
  },
  "language_info": {
   "codemirror_mode": {
    "name": "ipython",
    "version": 3
   },
   "file_extension": ".py",
   "mimetype": "text/x-python",
   "name": "python",
   "nbconvert_exporter": "python",
   "pygments_lexer": "ipython3",
   "version": "3.8.8"
  }
 },
 "nbformat": 4,
 "nbformat_minor": 5
}
